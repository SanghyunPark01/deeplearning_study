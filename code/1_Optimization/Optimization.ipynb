{
 "cells": [
  {
   "cell_type": "code",
   "execution_count": 1,
   "id": "5a9c8c77-aea1-4136-9f07-abd606a570ab",
   "metadata": {},
   "outputs": [],
   "source": [
    "# option\n",
    "bPrintDetail = False\n",
    "nIterationNum = 100\n",
    "dLearningRate = 0.2"
   ]
  },
  {
   "cell_type": "code",
   "execution_count": 2,
   "id": "61b67b26-cc18-4a74-b6bf-2d7ac06dd882",
   "metadata": {},
   "outputs": [
    {
     "name": "stdout",
     "output_type": "stream",
     "text": [
      "[[3.]\n",
      " [3.]]\n"
     ]
    }
   ],
   "source": [
    "import numpy as np\n",
    "\n",
    "H = np.matrix([[2, 0],[0, 2]])\n",
    "g = -np.matrix([[6],[6]])\n",
    "\n",
    "x =  np.zeros((2,1)) # initial value (0,0)\n",
    "\n",
    "for i in range(nIterationNum):\n",
    "    df = H*x + g\n",
    "    x = x - dLearningRate*df\n",
    "    if bPrintDetail:\n",
    "        print(f'[Iter {i}] x = \\n{x}')\n",
    "\n",
    "print(x)"
   ]
  },
  {
   "cell_type": "code",
   "execution_count": null,
   "id": "0f9f362b-812a-4216-b054-f86b48c5e32d",
   "metadata": {},
   "outputs": [],
   "source": []
  }
 ],
 "metadata": {
  "kernelspec": {
   "display_name": "Python 3 (ipykernel)",
   "language": "python",
   "name": "python3"
  },
  "language_info": {
   "codemirror_mode": {
    "name": "ipython",
    "version": 3
   },
   "file_extension": ".py",
   "mimetype": "text/x-python",
   "name": "python",
   "nbconvert_exporter": "python",
   "pygments_lexer": "ipython3",
   "version": "3.11.7"
  }
 },
 "nbformat": 4,
 "nbformat_minor": 5
}
